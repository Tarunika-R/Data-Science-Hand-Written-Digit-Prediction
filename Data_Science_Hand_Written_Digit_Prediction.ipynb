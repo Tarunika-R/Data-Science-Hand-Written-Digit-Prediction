{
  "nbformat": 4,
  "nbformat_minor": 0,
  "metadata": {
    "colab": {
      "provenance": [],
      "authorship_tag": "ABX9TyM58kqfeevq7rBDlWty/7LA"
    },
    "kernelspec": {
      "name": "python3",
      "display_name": "Python 3"
    },
    "language_info": {
      "name": "python"
    }
  },
  "cells": [
    {
      "cell_type": "markdown",
      "source": [
        "#Import Library"
      ],
      "metadata": {
        "id": "99RzQ_WO9qKx"
      }
    },
    {
      "cell_type": "code",
      "execution_count": 38,
      "metadata": {
        "id": "dRrwt_2e1luS"
      },
      "outputs": [],
      "source": [
        "import numpy as np # For numerical operations.\n",
        "import matplotlib.pyplot as plt # To plot visuals.\n",
        "from sklearn.datasets import load_digits # Importing the load_digits dataset from Scikit-learn.\n",
        "\n",
        "from sklearn.model_selection import train_test_split # Splitting data into training and testing sets.\n",
        "\n",
        "from sklearn.ensemble import RandomForestClassifier\n",
        "\n",
        "from sklearn.metrics import confusion_matrix, classification_report # Importing evaluation metrics."
      ]
    },
    {
      "cell_type": "markdown",
      "source": [
        "#Import Data"
      ],
      "metadata": {
        "id": "BPVKJop69v0z"
      }
    },
    {
      "cell_type": "code",
      "source": [
        "# Loading digits dataset\n",
        "data = load_digits()"
      ],
      "metadata": {
        "id": "ue4822vT1-gC"
      },
      "execution_count": 4,
      "outputs": []
    },
    {
      "cell_type": "code",
      "source": [
        "# Creating subplots to visualize images, 1 row, 4 columns, with a specific figure size.\n",
        "_, axes = plt.subplots(nrows = 1, ncols = 4, figsize = (10, 3))\n",
        "\n",
        "# Loop for displaying the first 4 images from the dataset.\n",
        "for ax, image, label in zip(axes, data.images, data.target):\n",
        "  ax.set_axis_off()   # Turn off the axis for the current subplot.\n",
        "  ax.imshow(image, cmap=plt.cm.gray_r, interpolation = \"nearest\")   # Display the image in grayscale.\n",
        "  ax.set_title(\"Training: %i\" % label)    # Set the title for the subplot with the corresponding label."
      ],
      "metadata": {
        "colab": {
          "base_uri": "https://localhost:8080/",
          "height": 227
        },
        "id": "mh-I_6ZT2Bnm",
        "outputId": "16f9b275-e38e-4bb8-cbf4-fdaf94495db4"
      },
      "execution_count": 10,
      "outputs": [
        {
          "output_type": "display_data",
          "data": {
            "text/plain": [
              "<Figure size 1000x300 with 4 Axes>"
            ],
            "image/png": "[encoded data removed]"
          },
          "metadata": {}
        }
      ]
    },
    {
      "cell_type": "markdown",
      "source": [
        "#Data Preprocessing"
      ],
      "metadata": {
        "id": "mhiHdvJ392Hf"
      }
    },
    {
      "cell_type": "code",
      "source": [
        "data.images.shape   # Displaying the shape of the images array in the dataset."
      ],
      "metadata": {
        "colab": {
          "base_uri": "https://localhost:8080/"
        },
        "id": "OJL9yQAG4UIe",
        "outputId": "1d6f55ae-fbca-40c8-9f23-e3dd2cb349f3"
      },
      "execution_count": 11,
      "outputs": [
        {
          "output_type": "execute_result",
          "data": {
            "text/plain": [
              "(1797, 8, 8)"
            ]
          },
          "metadata": {},
          "execution_count": 11
        }
      ]
    },
    {
      "cell_type": "code",
      "source": [
        "data.images[0]    # Displaying the first image in the dataset."
      ],
      "metadata": {
        "colab": {
          "base_uri": "https://localhost:8080/"
        },
        "id": "zbHjOpvy4X9Y",
        "outputId": "cb6aa7f1-cbd3-469b-8cf6-221b3fdf845d"
      },
      "execution_count": 13,
      "outputs": [
        {
          "output_type": "execute_result",
          "data": {
            "text/plain": [
              "array([[ 0.,  0.,  5., 13.,  9.,  1.,  0.,  0.],\n",
              "       [ 0.,  0., 13., 15., 10., 15.,  5.,  0.],\n",
              "       [ 0.,  3., 15.,  2.,  0., 11.,  8.,  0.],\n",
              "       [ 0.,  4., 12.,  0.,  0.,  8.,  8.,  0.],\n",
              "       [ 0.,  5.,  8.,  0.,  0.,  9.,  8.,  0.],\n",
              "       [ 0.,  4., 11.,  0.,  1., 12.,  7.,  0.],\n",
              "       [ 0.,  2., 14.,  5., 10., 12.,  0.,  0.],\n",
              "       [ 0.,  0.,  6., 13., 10.,  0.,  0.,  0.]])"
            ]
          },
          "metadata": {},
          "execution_count": 13
        }
      ]
    },
    {
      "cell_type": "code",
      "source": [
        "data.images[0].shape    # Displaying the shape of the first image in the dataset."
      ],
      "metadata": {
        "colab": {
          "base_uri": "https://localhost:8080/"
        },
        "id": "4WXFzatU4eNC",
        "outputId": "d4a7283d-a3c9-458f-9311-362d52c0f677"
      },
      "execution_count": 14,
      "outputs": [
        {
          "output_type": "execute_result",
          "data": {
            "text/plain": [
              "(8, 8)"
            ]
          },
          "metadata": {},
          "execution_count": 14
        }
      ]
    },
    {
      "cell_type": "code",
      "source": [
        "len(data.images)    # Getting the length of the images array."
      ],
      "metadata": {
        "colab": {
          "base_uri": "https://localhost:8080/"
        },
        "id": "qYlbIuKF4hCl",
        "outputId": "6520cbb3-09e2-477c-e7e7-808d210b57bd"
      },
      "execution_count": 15,
      "outputs": [
        {
          "output_type": "execute_result",
          "data": {
            "text/plain": [
              "1797"
            ]
          },
          "metadata": {},
          "execution_count": 15
        }
      ]
    },
    {
      "cell_type": "code",
      "source": [
        "n_samples = len(data.images)    # Storing the length of images array in n_samples variable.\n",
        "df = data.images.reshape((n_samples, -1))   # Reshaping the images array into a 2D array."
      ],
      "metadata": {
        "id": "2hCLF_yo4lsQ"
      },
      "execution_count": 16,
      "outputs": []
    },
    {
      "cell_type": "code",
      "source": [
        "df[0]   # Displaying the first row of the reshaped 2D array."
      ],
      "metadata": {
        "colab": {
          "base_uri": "https://localhost:8080/"
        },
        "id": "W6TZ69wN4wCm",
        "outputId": "391f67e4-8afe-4dfa-df04-3ce5482c04fa"
      },
      "execution_count": 17,
      "outputs": [
        {
          "output_type": "execute_result",
          "data": {
            "text/plain": [
              "array([ 0.,  0.,  5., 13.,  9.,  1.,  0.,  0.,  0.,  0., 13., 15., 10.,\n",
              "       15.,  5.,  0.,  0.,  3., 15.,  2.,  0., 11.,  8.,  0.,  0.,  4.,\n",
              "       12.,  0.,  0.,  8.,  8.,  0.,  0.,  5.,  8.,  0.,  0.,  9.,  8.,\n",
              "        0.,  0.,  4., 11.,  0.,  1., 12.,  7.,  0.,  0.,  2., 14.,  5.,\n",
              "       10., 12.,  0.,  0.,  0.,  0.,  6., 13., 10.,  0.,  0.,  0.])"
            ]
          },
          "metadata": {},
          "execution_count": 17
        }
      ]
    },
    {
      "cell_type": "code",
      "source": [
        "df[0].shape   # Displaying the shape of the first row in the reshaped 2D array."
      ],
      "metadata": {
        "colab": {
          "base_uri": "https://localhost:8080/"
        },
        "id": "4VsMphxY4yiH",
        "outputId": "b5af0362-2806-4ace-ae1a-9a5b6f5c683f"
      },
      "execution_count": 18,
      "outputs": [
        {
          "output_type": "execute_result",
          "data": {
            "text/plain": [
              "(64,)"
            ]
          },
          "metadata": {},
          "execution_count": 18
        }
      ]
    },
    {
      "cell_type": "code",
      "source": [
        "df.shape    # Displaying the shape of the reshaped 2D array."
      ],
      "metadata": {
        "colab": {
          "base_uri": "https://localhost:8080/"
        },
        "id": "cDFNR8RJ420Y",
        "outputId": "b4fcf5e3-f5b6-4252-8ede-6751992828ab"
      },
      "execution_count": 19,
      "outputs": [
        {
          "output_type": "execute_result",
          "data": {
            "text/plain": [
              "(1797, 64)"
            ]
          },
          "metadata": {},
          "execution_count": 19
        }
      ]
    },
    {
      "cell_type": "markdown",
      "source": [
        "#Scaling Image Data"
      ],
      "metadata": {
        "id": "KL2ufUmJ-AnT"
      }
    },
    {
      "cell_type": "code",
      "source": [
        "df.min()    # Finding the minimum value in the reshaped 2D array."
      ],
      "metadata": {
        "colab": {
          "base_uri": "https://localhost:8080/"
        },
        "id": "atg_FQ464552",
        "outputId": "79390788-c5a2-42ff-84c1-7bd034183beb"
      },
      "execution_count": 20,
      "outputs": [
        {
          "output_type": "execute_result",
          "data": {
            "text/plain": [
              "0.0"
            ]
          },
          "metadata": {},
          "execution_count": 20
        }
      ]
    },
    {
      "cell_type": "code",
      "source": [
        "df.max()    # Finding the maximum value in the reshaped 2D array."
      ],
      "metadata": {
        "colab": {
          "base_uri": "https://localhost:8080/"
        },
        "id": "OTlMJjac49Fp",
        "outputId": "1c898c07-cc18-411e-ac1c-3d409fb8421d"
      },
      "execution_count": 21,
      "outputs": [
        {
          "output_type": "execute_result",
          "data": {
            "text/plain": [
              "16.0"
            ]
          },
          "metadata": {},
          "execution_count": 21
        }
      ]
    },
    {
      "cell_type": "code",
      "source": [
        "df = df/16    # Normalizing the pixel values by dividing by 16.\n",
        "\n",
        "df.min()    # Confirming the new minimum value after normalization."
      ],
      "metadata": {
        "id": "TfjyVq245Ah_"
      },
      "execution_count": 39,
      "outputs": []
    },
    {
      "cell_type": "code",
      "source": [
        "df.max()    # Confirming the new maximum value after normalization."
      ],
      "metadata": {
        "colab": {
          "base_uri": "https://localhost:8080/"
        },
        "id": "K1Hqk6Kf5GAy",
        "outputId": "092da3fc-b83f-4d31-d36d-b990bbc70574"
      },
      "execution_count": 24,
      "outputs": [
        {
          "output_type": "execute_result",
          "data": {
            "text/plain": [
              "1.0"
            ]
          },
          "metadata": {},
          "execution_count": 24
        }
      ]
    },
    {
      "cell_type": "code",
      "source": [
        "df[0]   # Displaying the first row of the normalized array."
      ],
      "metadata": {
        "colab": {
          "base_uri": "https://localhost:8080/"
        },
        "id": "XgkJA4GI5Ih2",
        "outputId": "f6df0459-74f7-4d62-9c83-b02c0ffc2818"
      },
      "execution_count": 25,
      "outputs": [
        {
          "output_type": "execute_result",
          "data": {
            "text/plain": [
              "array([0.    , 0.    , 0.3125, 0.8125, 0.5625, 0.0625, 0.    , 0.    ,\n",
              "       0.    , 0.    , 0.8125, 0.9375, 0.625 , 0.9375, 0.3125, 0.    ,\n",
              "       0.    , 0.1875, 0.9375, 0.125 , 0.    , 0.6875, 0.5   , 0.    ,\n",
              "       0.    , 0.25  , 0.75  , 0.    , 0.    , 0.5   , 0.5   , 0.    ,\n",
              "       0.    , 0.3125, 0.5   , 0.    , 0.    , 0.5625, 0.5   , 0.    ,\n",
              "       0.    , 0.25  , 0.6875, 0.    , 0.0625, 0.75  , 0.4375, 0.    ,\n",
              "       0.    , 0.125 , 0.875 , 0.3125, 0.625 , 0.75  , 0.    , 0.    ,\n",
              "       0.    , 0.    , 0.375 , 0.8125, 0.625 , 0.    , 0.    , 0.    ])"
            ]
          },
          "metadata": {},
          "execution_count": 25
        }
      ]
    },
    {
      "cell_type": "markdown",
      "source": [
        "#Train Test Split Data\n"
      ],
      "metadata": {
        "id": "l9lb8Qe35esT"
      }
    },
    {
      "cell_type": "code",
      "source": [
        "# Splitting data into training and testing sets.\n",
        "X_train, X_test, y_train, y_test = train_test_split(df, data.target, test_size = 0.3)\n",
        "\n",
        "# Displaying the shapes of the training and testing sets.\n",
        "X_train.shape, X_test.shape, y_train.shape, y_test.shape"
      ],
      "metadata": {
        "colab": {
          "base_uri": "https://localhost:8080/"
        },
        "id": "2KUy9i7K5tlK",
        "outputId": "65c4fa58-1989-407a-e422-e91cdbb6e4c1"
      },
      "execution_count": 40,
      "outputs": [
        {
          "output_type": "execute_result",
          "data": {
            "text/plain": [
              "((1257, 64), (540, 64), (1257,), (540,))"
            ]
          },
          "metadata": {},
          "execution_count": 40
        }
      ]
    },
    {
      "cell_type": "markdown",
      "source": [
        "#Random Forest Model"
      ],
      "metadata": {
        "id": "VWz2I3Gr6O16"
      }
    },
    {
      "cell_type": "code",
      "source": [
        "# Initializing the RandomForestClassifier model.\n",
        "rf = RandomForestClassifier()\n",
        "\n",
        "# Fitting the RandomForestClassifier model to the training data.\n",
        "rf.fit(X_train, y_train)"
      ],
      "metadata": {
        "id": "B_aZ7CTj7FYC"
      },
      "execution_count": 30,
      "outputs": []
    },
    {
      "cell_type": "markdown",
      "source": [
        "#Predict Test Data"
      ],
      "metadata": {
        "id": "OvLxJIiN792W"
      }
    },
    {
      "cell_type": "code",
      "source": [
        "# Making predictions on the test set using the trained model.\n",
        "y_pred = rf. predict(X_test)\n",
        "\n",
        "# Displaying the predicted labels.\n",
        "y_pred"
      ],
      "metadata": {
        "colab": {
          "base_uri": "https://localhost:8080/"
        },
        "id": "sewAQ_p879h8",
        "outputId": "87a0e279-4a48-4aee-82b3-dfa6e98f16cf"
      },
      "execution_count": 41,
      "outputs": [
        {
          "output_type": "execute_result",
          "data": {
            "text/plain": [
              "array([1, 1, 7, 1, 1, 5, 7, 1, 5, 3, 5, 1, 5, 5, 5, 3, 1, 5, 1, 5, 1, 5,\n",
              "       1, 5, 1, 7, 7, 7, 7, 1, 5, 7, 5, 1, 7, 1, 5, 5, 1, 5, 5, 7, 5, 1,\n",
              "       1, 7, 7, 7, 7, 5, 7, 1, 7, 1, 5, 1, 1, 1, 5, 5, 5, 7, 5, 7, 7, 5,\n",
              "       7, 1, 5, 5, 5, 5, 5, 1, 3, 1, 7, 7, 5, 5, 1, 1, 1, 5, 5, 1, 5, 7,\n",
              "       1, 1, 5, 1, 1, 1, 1, 1, 1, 1, 5, 7, 1, 1, 4, 1, 5, 3, 1, 1, 5, 1,\n",
              "       5, 1, 5, 5, 5, 1, 4, 1, 7, 1, 5, 5, 5, 1, 5, 7, 7, 5, 5, 7, 5, 1,\n",
              "       3, 5, 1, 7, 3, 5, 5, 1, 5, 7, 7, 5, 1, 5, 7, 1, 3, 1, 1, 1, 1, 7,\n",
              "       1, 7, 1, 7, 5, 3, 1, 7, 5, 7, 5, 1, 5, 5, 1, 1, 5, 5, 7, 7, 5, 3,\n",
              "       1, 7, 1, 5, 3, 4, 3, 7, 7, 5, 5, 5, 5, 1, 1, 1, 5, 7, 5, 1, 7, 7,\n",
              "       1, 5, 7, 7, 5, 7, 1, 5, 7, 5, 1, 5, 5, 1, 1, 1, 1, 5, 7, 7, 5, 7,\n",
              "       1, 5, 1, 1, 5, 5, 5, 5, 5, 7, 5, 1, 5, 5, 3, 5, 3, 7, 1, 3, 1, 1,\n",
              "       5, 1, 5, 5, 7, 7, 7, 1, 5, 5, 7, 5, 1, 5, 1, 7, 5, 3, 5, 3, 1, 1,\n",
              "       1, 1, 3, 5, 3, 3, 1, 7, 3, 5, 1, 5, 5, 5, 1, 3, 7, 7, 5, 7, 5, 5,\n",
              "       5, 5, 5, 5, 1, 5, 5, 1, 1, 1, 1, 5, 3, 5, 1, 5, 1, 7, 1, 5, 5, 5,\n",
              "       1, 1, 7, 1, 1, 3, 1, 3, 1, 5, 3, 5, 5, 1, 7, 1, 7, 7, 1, 3, 5, 7,\n",
              "       5, 1, 3, 3, 3, 5, 1, 1, 5, 5, 7, 5, 1, 1, 4, 5, 1, 1, 5, 5, 1, 5,\n",
              "       5, 1, 1, 1, 7, 5, 7, 7, 1, 5, 5, 7, 7, 4, 1, 5, 7, 5, 1, 7, 1, 1,\n",
              "       5, 3, 3, 5, 5, 5, 1, 5, 1, 1, 1, 5, 5, 7, 1, 5, 3, 5, 7, 5, 7, 5,\n",
              "       1, 5, 1, 5, 1, 5, 5, 1, 5, 3, 1, 3, 7, 5, 5, 1, 1, 1, 7, 5, 5, 7,\n",
              "       7, 7, 7, 5, 5, 5, 1, 7, 5, 1, 7, 1, 3, 5, 1, 4, 1, 7, 3, 1, 5, 5,\n",
              "       5, 1, 5, 1, 1, 7, 7, 5, 1, 1, 1, 1, 5, 5, 7, 5, 1, 5, 5, 1, 3, 4,\n",
              "       3, 5, 7, 7, 5, 1, 5, 5, 5, 5, 1, 5, 7, 5, 5, 1, 1, 5, 7, 5, 5, 5,\n",
              "       1, 5, 1, 1, 7, 1, 5, 1, 1, 5, 1, 5, 1, 1, 5, 1, 1, 1, 1, 7, 5, 1,\n",
              "       5, 4, 5, 5, 1, 5, 1, 3, 5, 5, 1, 1, 1, 7, 5, 1, 1, 5, 3, 1, 3, 1,\n",
              "       7, 1, 5, 1, 5, 7, 3, 1, 1, 5, 3, 1])"
            ]
          },
          "metadata": {},
          "execution_count": 41
        }
      ]
    },
    {
      "cell_type": "markdown",
      "source": [
        "#Model Accuracy"
      ],
      "metadata": {
        "id": "hTdIxhcF81xu"
      }
    },
    {
      "cell_type": "code",
      "source": [
        "# Generating the confusion matrix using predicted and true labels.\n",
        "confusion_matrix(y_test, y_pred)"
      ],
      "metadata": {
        "colab": {
          "base_uri": "https://localhost:8080/"
        },
        "id": "72wKlyNH9GE0",
        "outputId": "6a2e46ac-17ba-4ffc-c398-7808e601654d"
      },
      "execution_count": 36,
      "outputs": [
        {
          "output_type": "execute_result",
          "data": {
            "text/plain": [
              "array([[47,  0,  0,  0,  0,  0,  0,  0,  0,  0],\n",
              "       [ 0, 52,  0,  0,  0,  0,  0,  0,  0,  0],\n",
              "       [ 0,  0, 52,  0,  0,  0,  0,  0,  0,  0],\n",
              "       [ 0,  0,  0, 55,  0,  0,  0,  0,  0,  0],\n",
              "       [ 0,  0,  0,  0, 45,  0,  0,  3,  0,  0],\n",
              "       [ 0,  0,  0,  0,  1, 54,  0,  0,  0,  0],\n",
              "       [ 0,  0,  0,  0,  0,  0, 57,  0,  1,  0],\n",
              "       [ 0,  0,  0,  0,  0,  0,  0, 62,  0,  1],\n",
              "       [ 0,  0,  1,  0,  0,  1,  1,  0, 53,  0],\n",
              "       [ 0,  0,  0,  0,  0,  0,  0,  2,  0, 52]])"
            ]
          },
          "metadata": {},
          "execution_count": 36
        }
      ]
    },
    {
      "cell_type": "code",
      "source": [
        "# Printing the classification report with precision, recall, and F1-score.\n",
        "print(classification_report(y_test, y_pred))"
      ],
      "metadata": {
        "colab": {
          "base_uri": "https://localhost:8080/"
        },
        "id": "d8pMFKqP9YEX",
        "outputId": "a7444b1f-b39d-405b-9daa-1709903fdb72"
      },
      "execution_count": 37,
      "outputs": [
        {
          "output_type": "stream",
          "name": "stdout",
          "text": [
            "              precision    recall  f1-score   support\n",
            "\n",
            "           0       1.00      1.00      1.00        47\n",
            "           1       1.00      1.00      1.00        52\n",
            "           2       0.98      1.00      0.99        52\n",
            "           3       1.00      1.00      1.00        55\n",
            "           4       0.98      0.94      0.96        48\n",
            "           5       0.98      0.98      0.98        55\n",
            "           6       0.98      0.98      0.98        58\n",
            "           7       0.93      0.98      0.95        63\n",
            "           8       0.98      0.95      0.96        56\n",
            "           9       0.98      0.96      0.97        54\n",
            "\n",
            "    accuracy                           0.98       540\n",
            "   macro avg       0.98      0.98      0.98       540\n",
            "weighted avg       0.98      0.98      0.98       540\n",
            "\n"
          ]
        }
      ]
    }
  ]
}